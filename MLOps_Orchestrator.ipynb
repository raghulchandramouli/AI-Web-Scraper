{
  "cells": [
    {
      "cell_type": "markdown",
      "metadata": {
        "id": "view-in-github",
        "colab_type": "text"
      },
      "source": [
        "<a href=\"https://colab.research.google.com/github/raghulchandramouli/AI-Web-Scraper/blob/master/MLOps_Orchestrator.ipynb\" target=\"_parent\"><img src=\"https://colab.research.google.com/assets/colab-badge.svg\" alt=\"Open In Colab\"/></a>"
      ]
    },
    {
      "cell_type": "markdown",
      "metadata": {
        "id": "gz_zHgUxz1VV"
      },
      "source": [
        "# MLOps Pipeline with ZenML"
      ]
    },
    {
      "cell_type": "code",
      "execution_count": null,
      "metadata": {
        "collapsed": true,
        "id": "O9BZC2b9z55h"
      },
      "outputs": [],
      "source": [
        "%pip install \"zenml[server]\"\n",
        "!zenml integration install sklearn -y\n",
        "%pip install pyparsing==2.4.2 # Model required for colab purpose\n",
        "\n",
        "# Importing IPYNB:\n",
        "import IPython\n",
        "\n",
        "# Restart Kernel:\n",
        "IPython.Application.instance().kernel.do_shutdown(restart=True)"
      ]
    },
    {
      "cell_type": "code",
      "execution_count": null,
      "metadata": {
        "id": "ku1qMIq41Em6"
      },
      "outputs": [],
      "source": [
        "NGROK_TOKEN = \"YOUR_NGROK_TOKEN\"\""
      ]
    },
    {
      "cell_type": "code",
      "execution_count": null,
      "metadata": {
        "id": "7pbRpyQN3d2w"
      },
      "outputs": [],
      "source": [
        "from zenml.environment import Environment\n",
        "\n",
        "if Environment.in_google_colab(): # Colab set up\n",
        "\n",
        "    # Install and authenticate ngrok\n",
        "    !pip install pyngrok\n",
        "    !ngrok authtoken $NGROK_TOKEN"
      ]
    },
    {
      "cell_type": "markdown",
      "metadata": {
        "id": "yEZ4jX2D4Hh1"
      },
      "source": [
        "# ZenML Setup"
      ]
    },
    {
      "cell_type": "code",
      "execution_count": null,
      "metadata": {
        "colab": {
          "background_save": true
        },
        "collapsed": true,
        "id": "NKhnFHdA4LUo"
      },
      "outputs": [],
      "source": [
        "! rm -rf .zen\n",
        "! zenml init"
      ]
    },
    {
      "cell_type": "markdown",
      "metadata": {
        "id": "vEk_AMRa4g2P"
      },
      "source": [
        "# Experimentations\n",
        "In this example I plan on training a model on `Handwritten text` data and add MLOps Capability"
      ]
    },
    {
      "cell_type": "code",
      "execution_count": null,
      "metadata": {
        "id": "b61qmDw44kO6"
      },
      "outputs": [],
      "source": [
        "import numpy as np\n",
        "from sklearn.base import ClassifierMixin\n",
        "from sklearn.svm import SVC\n",
        "from sklearn.datasets import load_digits\n",
        "from sklearn.model_selection import train_test_split\n",
        "\n",
        "def train_test() -> None:\n",
        "  \"\"\"Train and test a Scikit-learn SVC Classifier on digits\"\"\"\n",
        "\n",
        "  digits = load_digits()\n",
        "  data = digits.images.reshape((len(digits.images), -1))\n",
        "\n",
        "  X_train, X_test, y_train, y_test = train_test_split(\n",
        "\n",
        "      data, digits.target, test_size=0.2, shuffle=False\n",
        "\n",
        "      )\n",
        "\n",
        "  model = SVC(gamma=0.001)\n",
        "  model.fit(X_train, y_train)\n",
        "  test_acc = model.score(X_test, y_test)\n",
        "  print(f\"Test accuracy: {test_acc}\")\n",
        "\n",
        "train_test()"
      ]
    },
    {
      "cell_type": "markdown",
      "source": [
        "# Annotations used in ZenML"
      ],
      "metadata": {
        "id": "fyeROd87V2Ko"
      }
    },
    {
      "cell_type": "code",
      "execution_count": null,
      "metadata": {
        "id": "sdClARLx5mtm"
      },
      "outputs": [],
      "source": [
        "from zenml import step\n",
        "from typing_extensions import Annotated\n",
        "import pandas as pd\n",
        "from typing import Tuple\n",
        "\n",
        "@step\n",
        "def importer() -> Tuple[\n",
        "    Annotated[pd.DataFrame, \"X_train\"],\n",
        "    Annotated[pd.DataFrame, \"X_test\"],\n",
        "    Annotated[pd.Series, \"y_train\"],\n",
        "    Annotated[pd.Series, \"y_test\"],\n",
        "]:\n",
        "\n",
        "  \"\"\"Load the digits datasets as numpy arrays\"\"\"\n",
        "  digits = load_digits()\n",
        "  data = digits.images.reshape((len(digits.images), -1))\n",
        "\n",
        "  X_train, X_test, y_train, y_test = train_test_split(\n",
        "\n",
        "      data, digits.target, test_size=0.2, shuffle=False\n",
        "\n",
        "  )\n",
        "\n",
        "  return X_train, X_test, y_train, y_test\n",
        "\n",
        "\n",
        "@step\n",
        "def svc_trainer(\n",
        "    X_train: np.ndarray,\n",
        "    y_train: np.ndarray,\n",
        ") -> ClassifierMixin:\n",
        "\n",
        "  \"\"\"Train and return an SVC classifier\"\"\"\n",
        "  model = SVC(gamma=0.001)\n",
        "  model.fit(X_train, y_train)\n",
        "  return model\n",
        "\n",
        "@step\n",
        "def evaluator(\n",
        "    X_test: np.ndarray,\n",
        "    y_test: np.ndarray,\n",
        "    model: ClassifierMixin,\n",
        ") -> float:\n",
        "\n",
        "  \"\"\"Calculate the test set accuracy of an SVC model\"\"\"\n",
        "  test_acc = model.score(X_test, y_test)\n",
        "  print(f\"Test accuracy: {test_acc}\")\n",
        "  return test_acc\n"
      ]
    },
    {
      "cell_type": "markdown",
      "source": [
        "# Creating ZenML Pipeline\n",
        "\n",
        "Note this pipeline is actually a `Step Functions`"
      ],
      "metadata": {
        "id": "jEDt42SlWHVQ"
      }
    },
    {
      "cell_type": "code",
      "execution_count": null,
      "metadata": {
        "id": "kvEkrhs1ApGV"
      },
      "outputs": [],
      "source": [
        "from zenml import pipeline\n",
        "\n",
        "@pipeline\n",
        "def digits_pipeline():\n",
        "  \"\"\"Links all the steps together in a pipeline\"\"\"\n",
        "  X_train, X_test, y_train, y_test = importer()\n",
        "  model = svc_trainer(X_train=X_train, y_train=y_train)\n",
        "  evaluator(X_test=X_test, y_test=y_test, model=model)\n",
        "\n",
        "digits_pipeline()"
      ]
    },
    {
      "cell_type": "markdown",
      "source": [
        "**Running the ZenML PipeLine**"
      ],
      "metadata": {
        "id": "DLsAmRPOWyfc"
      }
    },
    {
      "cell_type": "code",
      "source": [
        "digits_pipeline_instance = digits_pipeline()"
      ],
      "metadata": {
        "id": "OwfY72gEW6zY"
      },
      "execution_count": null,
      "outputs": []
    },
    {
      "cell_type": "code",
      "source": [],
      "metadata": {
        "id": "xeUB_tPvW8kQ"
      },
      "execution_count": null,
      "outputs": []
    }
  ],
  "metadata": {
    "colab": {
      "provenance": [],
      "authorship_tag": "ABX9TyMj3vs19s3GVn12fFXnin9H",
      "include_colab_link": true
    },
    "kernelspec": {
      "display_name": "Python 3",
      "name": "python3"
    },
    "language_info": {
      "name": "python"
    }
  },
  "nbformat": 4,
  "nbformat_minor": 0
}